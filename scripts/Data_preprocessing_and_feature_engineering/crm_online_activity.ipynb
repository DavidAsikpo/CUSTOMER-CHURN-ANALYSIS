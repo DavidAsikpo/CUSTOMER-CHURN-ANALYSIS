{
 "cells": [
  {
   "metadata": {
    "collapsed": true,
    "ExecuteTime": {
     "end_time": "2025-09-19T20:05:03.159392Z",
     "start_time": "2025-09-19T20:05:03.154916Z"
    }
   },
   "cell_type": "markdown",
   "source": [
    "## Online Activity Feature Engineering\n",
    "\n",
    "In this section, we processed the raw `online_activity` dataset to create numeric features per customer suitable for churn modeling. The goal is to capture **digital engagement and recency of activity**.\n",
    "\n",
    "### Original Columns\n",
    "- `customer_id` – Unique identifier for each customer\n",
    "- `activity_type` – Type of activity: App, Website, etc.\n",
    "- `last_login_date` – Date of the last login\n",
    "- `medium` – Platform used (App, Website, etc.)\n",
    "\n",
    "### Feature Engineering Steps\n",
    "\n",
    "1. **Filter relevant platforms**\n",
    "   - Dropped `Website` medium as it was less predictive of churn.\n",
    "   - Kept only platforms that meaningfully indicate engagement (e.g., App).\n",
    "\n",
    "2. **Compute recency**\n",
    "   - `last_login_date` – Most recent login per customer\n",
    "   - `recency_days` – Number of days since the last login\n",
    "\n",
    "```python\n",
    "recency_days = (pd.Timestamp.today().normalize() - last_login_date).dt.days\n",
    "\n",
    "\n",
    "\n"
   ],
   "id": "705ba1ce69f4cee3"
  },
  {
   "metadata": {
    "collapsed": true,
    "ExecuteTime": {
     "end_time": "2025-09-19T23:11:41.221713Z",
     "start_time": "2025-09-19T23:11:41.213673Z"
    }
   },
   "cell_type": "code",
   "source": [
    "import pandas as pd\n",
    "import numpy as np\n",
    "import seaborn as sns\n",
    "import matplotlib.pyplot as plt\n",
    "from narwhals.stable.v1 import Datetime\n",
    "from sqlalchemy.dialects.mssql.information_schema import columns\n",
    "from sqlalchemy.sql.functions import current_timestamp\n",
    "\n"
   ],
   "id": "ab16bdc9cd9840cf",
   "outputs": [],
   "execution_count": 14
  },
  {
   "metadata": {
    "ExecuteTime": {
     "end_time": "2025-09-19T20:05:05.640936Z",
     "start_time": "2025-09-19T20:05:05.622098Z"
    }
   },
   "cell_type": "code",
   "source": [
    "online_activity = pd.read_csv('/Users/mac/PycharmProjects/Customer_Churn/Datasets/csv_files/crm_online_activity.csv')\n",
    "online_activity.head(100)"
   ],
   "id": "349bfb22d5d7d407",
   "outputs": [
    {
     "data": {
      "text/plain": [
       "    customer_id last_login_date  login_frequency   service_usage\n",
       "0             1      2023-10-21               34      Mobile App\n",
       "1             2      2023-12-05                5         Website\n",
       "2             3      2023-11-15                3         Website\n",
       "3             4      2023-08-25                2         Website\n",
       "4             5      2023-10-27               41         Website\n",
       "..          ...             ...              ...             ...\n",
       "95           96      2023-02-27               36      Mobile App\n",
       "96           97      2023-12-20               38         Website\n",
       "97           98      2023-05-23                9      Mobile App\n",
       "98           99      2023-02-10               14  Online Banking\n",
       "99          100      2023-06-02               45  Online Banking\n",
       "\n",
       "[100 rows x 4 columns]"
      ],
      "text/html": [
       "<div>\n",
       "<style scoped>\n",
       "    .dataframe tbody tr th:only-of-type {\n",
       "        vertical-align: middle;\n",
       "    }\n",
       "\n",
       "    .dataframe tbody tr th {\n",
       "        vertical-align: top;\n",
       "    }\n",
       "\n",
       "    .dataframe thead th {\n",
       "        text-align: right;\n",
       "    }\n",
       "</style>\n",
       "<table border=\"1\" class=\"dataframe\">\n",
       "  <thead>\n",
       "    <tr style=\"text-align: right;\">\n",
       "      <th></th>\n",
       "      <th>customer_id</th>\n",
       "      <th>last_login_date</th>\n",
       "      <th>login_frequency</th>\n",
       "      <th>service_usage</th>\n",
       "    </tr>\n",
       "  </thead>\n",
       "  <tbody>\n",
       "    <tr>\n",
       "      <th>0</th>\n",
       "      <td>1</td>\n",
       "      <td>2023-10-21</td>\n",
       "      <td>34</td>\n",
       "      <td>Mobile App</td>\n",
       "    </tr>\n",
       "    <tr>\n",
       "      <th>1</th>\n",
       "      <td>2</td>\n",
       "      <td>2023-12-05</td>\n",
       "      <td>5</td>\n",
       "      <td>Website</td>\n",
       "    </tr>\n",
       "    <tr>\n",
       "      <th>2</th>\n",
       "      <td>3</td>\n",
       "      <td>2023-11-15</td>\n",
       "      <td>3</td>\n",
       "      <td>Website</td>\n",
       "    </tr>\n",
       "    <tr>\n",
       "      <th>3</th>\n",
       "      <td>4</td>\n",
       "      <td>2023-08-25</td>\n",
       "      <td>2</td>\n",
       "      <td>Website</td>\n",
       "    </tr>\n",
       "    <tr>\n",
       "      <th>4</th>\n",
       "      <td>5</td>\n",
       "      <td>2023-10-27</td>\n",
       "      <td>41</td>\n",
       "      <td>Website</td>\n",
       "    </tr>\n",
       "    <tr>\n",
       "      <th>...</th>\n",
       "      <td>...</td>\n",
       "      <td>...</td>\n",
       "      <td>...</td>\n",
       "      <td>...</td>\n",
       "    </tr>\n",
       "    <tr>\n",
       "      <th>95</th>\n",
       "      <td>96</td>\n",
       "      <td>2023-02-27</td>\n",
       "      <td>36</td>\n",
       "      <td>Mobile App</td>\n",
       "    </tr>\n",
       "    <tr>\n",
       "      <th>96</th>\n",
       "      <td>97</td>\n",
       "      <td>2023-12-20</td>\n",
       "      <td>38</td>\n",
       "      <td>Website</td>\n",
       "    </tr>\n",
       "    <tr>\n",
       "      <th>97</th>\n",
       "      <td>98</td>\n",
       "      <td>2023-05-23</td>\n",
       "      <td>9</td>\n",
       "      <td>Mobile App</td>\n",
       "    </tr>\n",
       "    <tr>\n",
       "      <th>98</th>\n",
       "      <td>99</td>\n",
       "      <td>2023-02-10</td>\n",
       "      <td>14</td>\n",
       "      <td>Online Banking</td>\n",
       "    </tr>\n",
       "    <tr>\n",
       "      <th>99</th>\n",
       "      <td>100</td>\n",
       "      <td>2023-06-02</td>\n",
       "      <td>45</td>\n",
       "      <td>Online Banking</td>\n",
       "    </tr>\n",
       "  </tbody>\n",
       "</table>\n",
       "<p>100 rows × 4 columns</p>\n",
       "</div>"
      ]
     },
     "execution_count": 8,
     "metadata": {},
     "output_type": "execute_result"
    }
   ],
   "execution_count": 8
  },
  {
   "metadata": {
    "ExecuteTime": {
     "end_time": "2025-09-19T20:05:10.819521Z",
     "start_time": "2025-09-19T20:05:10.806432Z"
    }
   },
   "cell_type": "code",
   "source": [
    "online_activity.drop('service_usage', axis=1, inplace=True)\n",
    "online_activity.head()\n"
   ],
   "id": "ace2f5b5f2fdad1a",
   "outputs": [
    {
     "data": {
      "text/plain": [
       "   customer_id last_login_date  login_frequency\n",
       "0            1      2023-10-21               34\n",
       "1            2      2023-12-05                5\n",
       "2            3      2023-11-15                3\n",
       "3            4      2023-08-25                2\n",
       "4            5      2023-10-27               41"
      ],
      "text/html": [
       "<div>\n",
       "<style scoped>\n",
       "    .dataframe tbody tr th:only-of-type {\n",
       "        vertical-align: middle;\n",
       "    }\n",
       "\n",
       "    .dataframe tbody tr th {\n",
       "        vertical-align: top;\n",
       "    }\n",
       "\n",
       "    .dataframe thead th {\n",
       "        text-align: right;\n",
       "    }\n",
       "</style>\n",
       "<table border=\"1\" class=\"dataframe\">\n",
       "  <thead>\n",
       "    <tr style=\"text-align: right;\">\n",
       "      <th></th>\n",
       "      <th>customer_id</th>\n",
       "      <th>last_login_date</th>\n",
       "      <th>login_frequency</th>\n",
       "    </tr>\n",
       "  </thead>\n",
       "  <tbody>\n",
       "    <tr>\n",
       "      <th>0</th>\n",
       "      <td>1</td>\n",
       "      <td>2023-10-21</td>\n",
       "      <td>34</td>\n",
       "    </tr>\n",
       "    <tr>\n",
       "      <th>1</th>\n",
       "      <td>2</td>\n",
       "      <td>2023-12-05</td>\n",
       "      <td>5</td>\n",
       "    </tr>\n",
       "    <tr>\n",
       "      <th>2</th>\n",
       "      <td>3</td>\n",
       "      <td>2023-11-15</td>\n",
       "      <td>3</td>\n",
       "    </tr>\n",
       "    <tr>\n",
       "      <th>3</th>\n",
       "      <td>4</td>\n",
       "      <td>2023-08-25</td>\n",
       "      <td>2</td>\n",
       "    </tr>\n",
       "    <tr>\n",
       "      <th>4</th>\n",
       "      <td>5</td>\n",
       "      <td>2023-10-27</td>\n",
       "      <td>41</td>\n",
       "    </tr>\n",
       "  </tbody>\n",
       "</table>\n",
       "</div>"
      ]
     },
     "execution_count": 9,
     "metadata": {},
     "output_type": "execute_result"
    }
   ],
   "execution_count": 9
  },
  {
   "metadata": {
    "ExecuteTime": {
     "end_time": "2025-09-19T20:05:57.127380Z",
     "start_time": "2025-09-19T20:05:57.115351Z"
    }
   },
   "cell_type": "code",
   "source": [
    "online_activity['last_login_date'] = pd.to_datetime(online_activity['last_login_date'])\n",
    "today = pd.Timestamp.today().normalize()\n",
    "online_activity['days_since_last_login'] = (today - online_activity['last_login_date']).dt.days"
   ],
   "id": "aaa7675302261903",
   "outputs": [],
   "execution_count": 10
  },
  {
   "metadata": {
    "ExecuteTime": {
     "end_time": "2025-09-19T20:06:38.654573Z",
     "start_time": "2025-09-19T20:06:38.641068Z"
    }
   },
   "cell_type": "code",
   "source": [
    "online_activity.drop('last_login_date', axis=1, inplace=True)\n",
    "online_activity.head()"
   ],
   "id": "91595005b58b3d84",
   "outputs": [
    {
     "data": {
      "text/plain": [
       "   customer_id  login_frequency  days_since_last_login\n",
       "0            1               34                    699\n",
       "1            2                5                    654\n",
       "2            3                3                    674\n",
       "3            4                2                    756\n",
       "4            5               41                    693"
      ],
      "text/html": [
       "<div>\n",
       "<style scoped>\n",
       "    .dataframe tbody tr th:only-of-type {\n",
       "        vertical-align: middle;\n",
       "    }\n",
       "\n",
       "    .dataframe tbody tr th {\n",
       "        vertical-align: top;\n",
       "    }\n",
       "\n",
       "    .dataframe thead th {\n",
       "        text-align: right;\n",
       "    }\n",
       "</style>\n",
       "<table border=\"1\" class=\"dataframe\">\n",
       "  <thead>\n",
       "    <tr style=\"text-align: right;\">\n",
       "      <th></th>\n",
       "      <th>customer_id</th>\n",
       "      <th>login_frequency</th>\n",
       "      <th>days_since_last_login</th>\n",
       "    </tr>\n",
       "  </thead>\n",
       "  <tbody>\n",
       "    <tr>\n",
       "      <th>0</th>\n",
       "      <td>1</td>\n",
       "      <td>34</td>\n",
       "      <td>699</td>\n",
       "    </tr>\n",
       "    <tr>\n",
       "      <th>1</th>\n",
       "      <td>2</td>\n",
       "      <td>5</td>\n",
       "      <td>654</td>\n",
       "    </tr>\n",
       "    <tr>\n",
       "      <th>2</th>\n",
       "      <td>3</td>\n",
       "      <td>3</td>\n",
       "      <td>674</td>\n",
       "    </tr>\n",
       "    <tr>\n",
       "      <th>3</th>\n",
       "      <td>4</td>\n",
       "      <td>2</td>\n",
       "      <td>756</td>\n",
       "    </tr>\n",
       "    <tr>\n",
       "      <th>4</th>\n",
       "      <td>5</td>\n",
       "      <td>41</td>\n",
       "      <td>693</td>\n",
       "    </tr>\n",
       "  </tbody>\n",
       "</table>\n",
       "</div>"
      ]
     },
     "execution_count": 12,
     "metadata": {},
     "output_type": "execute_result"
    }
   ],
   "execution_count": 12
  },
  {
   "metadata": {
    "ExecuteTime": {
     "end_time": "2025-09-19T22:57:49.029030Z",
     "start_time": "2025-09-19T22:57:48.976841Z"
    }
   },
   "cell_type": "code",
   "source": "online_activity.to_csv('online_activity', index=False)",
   "id": "3c735a4b7037cb57",
   "outputs": [],
   "execution_count": 13
  },
  {
   "metadata": {},
   "cell_type": "code",
   "outputs": [],
   "execution_count": null,
   "source": "",
   "id": "885e0fa1e5fa7173"
  }
 ],
 "metadata": {
  "kernelspec": {
   "display_name": "Python 3",
   "language": "python",
   "name": "python3"
  },
  "language_info": {
   "codemirror_mode": {
    "name": "ipython",
    "version": 2
   },
   "file_extension": ".py",
   "mimetype": "text/x-python",
   "name": "python",
   "nbconvert_exporter": "python",
   "pygments_lexer": "ipython2",
   "version": "2.7.6"
  }
 },
 "nbformat": 4,
 "nbformat_minor": 5
}
